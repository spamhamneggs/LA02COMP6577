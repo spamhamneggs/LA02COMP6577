{
  "nbformat": 4,
  "nbformat_minor": 0,
  "metadata": {
    "colab": {
      "provenance": [],
      "collapsed_sections": [
        "nRlrUpiOmxP6",
        "VAqkOHpqBJJA",
        "nzhRIJ1aBmEW",
        "wZ9Jqyw-Bul9"
      ]
    },
    "kernelspec": {
      "name": "python3",
      "display_name": "Python 3"
    },
    "language_info": {
      "name": "python"
    }
  },
  "cells": [
    {
      "cell_type": "markdown",
      "source": [
        "#Load Data"
      ],
      "metadata": {
        "id": "nRlrUpiOmxP6"
      }
    },
    {
      "cell_type": "code",
      "execution_count": null,
      "metadata": {
        "id": "e614fS5Ehl0G"
      },
      "outputs": [],
      "source": [
        "# 1. Load the data and save it to a pandas dataframe\n",
        "# 2. EDA\n",
        "# 3. Preprocessing: Deal with missing values (replace or drop)\n",
        "# 4. Preprocessing: Deal with non-number value-encode to categorical(numeric) data\n",
        "# 5. Feature selection: define X, Y (using correlation matrix) -\n",
        "#    not all features can be processed\n",
        "# 6. Split the data to 70:30\n",
        "# 7. Train the data using several models\n",
        "# 8. Evaluate the model\n",
        "# 9. Improve the model: Data resampling (OPT)\n",
        "# 10. Improve the model: Hyperparameter tuning\n"
      ]
    },
    {
      "cell_type": "code",
      "source": [
        "import pandas as pd\n",
        "import seaborn as sb"
      ],
      "metadata": {
        "id": "YxbKj50FmrDv"
      },
      "execution_count": null,
      "outputs": []
    },
    {
      "cell_type": "code",
      "source": [
        "!wget https://raw.githubusercontent.com/andrychowanda/COMP6577/refs/heads/master/titanic_train.csv"
      ],
      "metadata": {
        "colab": {
          "base_uri": "https://localhost:8080/"
        },
        "id": "vVnLBEoymsbu",
        "outputId": "8ec08838-ca6a-431d-fc0c-e9684c6d0cee"
      },
      "execution_count": null,
      "outputs": [
        {
          "output_type": "stream",
          "name": "stdout",
          "text": [
            "--2025-05-14 13:23:04--  https://raw.githubusercontent.com/andrychowanda/COMP6577/refs/heads/master/titanic_train.csv\n",
            "Resolving raw.githubusercontent.com (raw.githubusercontent.com)... 185.199.109.133, 185.199.108.133, 185.199.111.133, ...\n",
            "Connecting to raw.githubusercontent.com (raw.githubusercontent.com)|185.199.109.133|:443... connected.\n",
            "HTTP request sent, awaiting response... 200 OK\n",
            "Length: 72499 (71K) [text/plain]\n",
            "Saving to: ‘titanic_train.csv’\n",
            "\n",
            "titanic_train.csv   100%[===================>]  70.80K  --.-KB/s    in 0.02s   \n",
            "\n",
            "2025-05-14 13:23:05 (3.35 MB/s) - ‘titanic_train.csv’ saved [72499/72499]\n",
            "\n"
          ]
        }
      ]
    },
    {
      "cell_type": "code",
      "source": [
        "data = pd.read_csv('titanic_train.csv')"
      ],
      "metadata": {
        "id": "CwwA47-hmt0T"
      },
      "execution_count": null,
      "outputs": []
    },
    {
      "cell_type": "markdown",
      "source": [
        "#EDA"
      ],
      "metadata": {
        "id": "IkaUTKpUm3PS"
      }
    },
    {
      "cell_type": "code",
      "source": [
        "data.info()"
      ],
      "metadata": {
        "colab": {
          "base_uri": "https://localhost:8080/"
        },
        "id": "PoqQF-3Nmvhz",
        "outputId": "cee52327-3817-433f-ce80-5873883a5a26"
      },
      "execution_count": null,
      "outputs": [
        {
          "output_type": "stream",
          "name": "stdout",
          "text": [
            "<class 'pandas.core.frame.DataFrame'>\n",
            "RangeIndex: 850 entries, 0 to 849\n",
            "Data columns (total 15 columns):\n",
            " #   Column        Non-Null Count  Dtype  \n",
            "---  ------        --------------  -----  \n",
            " 0   passenger_id  850 non-null    int64  \n",
            " 1   pclass        850 non-null    int64  \n",
            " 2   name          850 non-null    object \n",
            " 3   sex           850 non-null    object \n",
            " 4   age           676 non-null    float64\n",
            " 5   sibsp         850 non-null    int64  \n",
            " 6   parch         850 non-null    int64  \n",
            " 7   ticket        850 non-null    object \n",
            " 8   fare          849 non-null    float64\n",
            " 9   cabin         191 non-null    object \n",
            " 10  embarked      849 non-null    object \n",
            " 11  boat          308 non-null    object \n",
            " 12  body          73 non-null     float64\n",
            " 13  home.dest     464 non-null    object \n",
            " 14  survived      850 non-null    int64  \n",
            "dtypes: float64(3), int64(5), object(7)\n",
            "memory usage: 99.7+ KB\n"
          ]
        }
      ]
    },
    {
      "cell_type": "code",
      "source": [
        "print(data[\"survived\"].value_counts())"
      ],
      "metadata": {
        "colab": {
          "base_uri": "https://localhost:8080/"
        },
        "id": "JntbT3xPm5kK",
        "outputId": "f4c42bff-79f3-4a0b-c75a-1c129a00b1c9"
      },
      "execution_count": null,
      "outputs": [
        {
          "output_type": "stream",
          "name": "stdout",
          "text": [
            "survived\n",
            "0    537\n",
            "1    313\n",
            "Name: count, dtype: int64\n"
          ]
        }
      ]
    },
    {
      "cell_type": "code",
      "source": [
        "data[\"age\"].hist(bins=20)"
      ],
      "metadata": {
        "colab": {
          "base_uri": "https://localhost:8080/"
        },
        "id": "KWj7ZQFQm7Yy",
        "outputId": "b3ae77c1-fcb0-4842-8ecc-73a1fce4cd90"
      },
      "execution_count": null,
      "outputs": [
        {
          "output_type": "execute_result",
          "data": {
            "text/plain": [
              "<Axes: >"
            ]
          },
          "metadata": {},
          "execution_count": 7
        },
        {
          "output_type": "display_data",
          "data": {
            "text/plain": [
              "<Figure size 640x480 with 1 Axes>"
            ],
            "image/png": "[encoded data removed]"
          },
          "metadata": {}
        }
      ]
    },
    {
      "cell_type": "code",
      "source": [
        "data[\"fare\"].hist(bins=10)"
      ],
      "metadata": {
        "colab": {
          "base_uri": "https://localhost:8080/"
        },
        "id": "WM9a4hXRm85X",
        "outputId": "0e72eafb-0e4c-4536-ea50-05d305a4482f"
      },
      "execution_count": null,
      "outputs": [
        {
          "output_type": "execute_result",
          "data": {
            "text/plain": [
              "<Axes: >"
            ]
          },
          "metadata": {},
          "execution_count": 8
        },
        {
          "output_type": "display_data",
          "data": {
            "text/plain": [
              "<Figure size 640x480 with 1 Axes>"
            ],
            "image/png": "[encoded data removed]"
          },
          "metadata": {}
        }
      ]
    },
    {
      "cell_type": "code",
      "source": [
        "data[\"pclass\"].value_counts()"
      ],
      "metadata": {
        "colab": {
          "base_uri": "https://localhost:8080/"
        },
        "id": "gasXdEp-m-We",
        "outputId": "c9df7099-7498-4661-843c-f43f6a35f0ff"
      },
      "execution_count": null,
      "outputs": [
        {
          "output_type": "execute_result",
          "data": {
            "text/plain": [
              "pclass\n",
              "3    478\n",
              "1    206\n",
              "2    166\n",
              "Name: count, dtype: int64"
            ],
            "text/html": [
              "<div>\n",
              "<style scoped>\n",
              "    .dataframe tbody tr th:only-of-type {\n",
              "        vertical-align: middle;\n",
              "    }\n",
              "\n",
              "    .dataframe tbody tr th {\n",
              "        vertical-align: top;\n",
              "    }\n",
              "\n",
              "    .dataframe thead th {\n",
              "        text-align: right;\n",
              "    }\n",
              "</style>\n",
              "<table border=\"1\" class=\"dataframe\">\n",
              "  <thead>\n",
              "    <tr style=\"text-align: right;\">\n",
              "      <th></th>\n",
              "      <th>count</th>\n",
              "    </tr>\n",
              "    <tr>\n",
              "      <th>pclass</th>\n",
              "      <th></th>\n",
              "    </tr>\n",
              "  </thead>\n",
              "  <tbody>\n",
              "    <tr>\n",
              "      <th>3</th>\n",
              "      <td>478</td>\n",
              "    </tr>\n",
              "    <tr>\n",
              "      <th>1</th>\n",
              "      <td>206</td>\n",
              "    </tr>\n",
              "    <tr>\n",
              "      <th>2</th>\n",
              "      <td>166</td>\n",
              "    </tr>\n",
              "  </tbody>\n",
              "</table>\n",
              "</div><br><label><b>dtype:</b> int64</label>"
            ]
          },
          "metadata": {},
          "execution_count": 9
        }
      ]
    },
    {
      "cell_type": "code",
      "source": [
        "sb.countplot(data[\"sex\"], palette=\"viridis\")"
      ],
      "metadata": {
        "colab": {
          "base_uri": "https://localhost:8080/"
        },
        "id": "ydA7fiBPm_w9",
        "outputId": "c5c0c52c-c34b-47d4-b476-204661f1d8c7"
      },
      "execution_count": null,
      "outputs": [
        {
          "output_type": "stream",
          "name": "stderr",
          "text": [
            "<ipython-input-10-f517af1f314c>:1: FutureWarning: \n",
            "\n",
            "Passing `palette` without assigning `hue` is deprecated and will be removed in v0.14.0. Assign the `y` variable to `hue` and set `legend=False` for the same effect.\n",
            "\n",
            "  sb.countplot(data[\"sex\"], palette=\"viridis\")\n"
          ]
        },
        {
          "output_type": "execute_result",
          "data": {
            "text/plain": [
              "<Axes: xlabel='count', ylabel='sex'>"
            ]
          },
          "metadata": {},
          "execution_count": 10
        },
        {
          "output_type": "display_data",
          "data": {
            "text/plain": [
              "<Figure size 640x480 with 1 Axes>"
            ],
            "image/png": "[encoded data removed]"
          },
          "metadata": {}
        }
      ]
    },
    {
      "cell_type": "code",
      "source": [
        "sb.countplot(data[\"embarked\"], palette=\"viridis\")"
      ],
      "metadata": {
        "colab": {
          "base_uri": "https://localhost:8080/"
        },
        "id": "7ygdV6zYnBJv",
        "outputId": "d93025a9-1af5-4dad-f4d0-77b5f2b391e2"
      },
      "execution_count": null,
      "outputs": [
        {
          "output_type": "stream",
          "name": "stderr",
          "text": [
            "<ipython-input-11-1bc0791dbd55>:1: FutureWarning: \n",
            "\n",
            "Passing `palette` without assigning `hue` is deprecated and will be removed in v0.14.0. Assign the `y` variable to `hue` and set `legend=False` for the same effect.\n",
            "\n",
            "  sb.countplot(data[\"embarked\"], palette=\"viridis\")\n"
          ]
        },
        {
          "output_type": "execute_result",
          "data": {
            "text/plain": [
              "<Axes: xlabel='count', ylabel='embarked'>"
            ]
          },
          "metadata": {},
          "execution_count": 11
        },
        {
          "output_type": "display_data",
          "data": {
            "text/plain": [
              "<Figure size 640x480 with 1 Axes>"
            ],
            "image/png": "[encoded data removed]"
          },
          "metadata": {}
        }
      ]
    },
    {
      "cell_type": "code",
      "source": [
        "sb.barplot(x=\"sex\", y=\"survived\", data=data)"
      ],
      "metadata": {
        "colab": {
          "base_uri": "https://localhost:8080/"
        },
        "id": "tR22AWiRnCoe",
        "outputId": "bc1318da-896f-4e95-d5c4-a26046d8c763"
      },
      "execution_count": null,
      "outputs": [
        {
          "output_type": "execute_result",
          "data": {
            "text/plain": [
              "<Axes: xlabel='sex', ylabel='survived'>"
            ]
          },
          "metadata": {},
          "execution_count": 12
        },
        {
          "output_type": "display_data",
          "data": {
            "text/plain": [
              "<Figure size 640x480 with 1 Axes>"
            ],
            "image/png": "[encoded data removed]"
          },
          "metadata": {}
        }
      ]
    },
    {
      "cell_type": "code",
      "source": [
        "sb.barplot(x=\"pclass\", y=\"survived\", data=data)"
      ],
      "metadata": {
        "colab": {
          "base_uri": "https://localhost:8080/"
        },
        "id": "-ytNvoKOnD7m",
        "outputId": "ba77d824-e7c0-4bc6-8500-239fb9ae1e47"
      },
      "execution_count": null,
      "outputs": [
        {
          "output_type": "execute_result",
          "data": {
            "text/plain": [
              "<Axes: xlabel='pclass', ylabel='survived'>"
            ]
          },
          "metadata": {},
          "execution_count": 13
        },
        {
          "output_type": "display_data",
          "data": {
            "text/plain": [
              "<Figure size 640x480 with 1 Axes>"
            ],
            "image/png": "[encoded data removed]"
          },
          "metadata": {}
        }
      ]
    },
    {
      "cell_type": "code",
      "source": [
        "sb.barplot(x=\"embarked\", y=\"survived\", data=data)"
      ],
      "metadata": {
        "colab": {
          "base_uri": "https://localhost:8080/"
        },
        "id": "DgH2EauDnFYl",
        "outputId": "97e7d12d-0aaf-4471-d444-3cc68574c2a3"
      },
      "execution_count": null,
      "outputs": [
        {
          "output_type": "execute_result",
          "data": {
            "text/plain": [
              "<Axes: xlabel='embarked', ylabel='survived'>"
            ]
          },
          "metadata": {},
          "execution_count": 14
        },
        {
          "output_type": "display_data",
          "data": {
            "text/plain": [
              "<Figure size 640x480 with 1 Axes>"
            ],
            "image/png": "[encoded data removed]"
          },
          "metadata": {}
        }
      ]
    },
    {
      "cell_type": "code",
      "source": [],
      "metadata": {
        "id": "e7JH1OCAnG2F"
      },
      "execution_count": null,
      "outputs": []
    },
    {
      "cell_type": "markdown",
      "source": [
        "# Preprocessing: Deal with missing values"
      ],
      "metadata": {
        "id": "VAqkOHpqBJJA"
      }
    },
    {
      "cell_type": "code",
      "source": [
        "data[\"age\"] = data[\"age\"].fillna(data[\"age\"].mean())\n",
        "data.info()"
      ],
      "metadata": {
        "colab": {
          "base_uri": "https://localhost:8080/"
        },
        "id": "Ilia1kiQBGWn",
        "outputId": "2a4002a7-c5fe-4c9e-98aa-c2b7cfbdce6c"
      },
      "execution_count": null,
      "outputs": [
        {
          "output_type": "stream",
          "name": "stdout",
          "text": [
            "<class 'pandas.core.frame.DataFrame'>\n",
            "RangeIndex: 850 entries, 0 to 849\n",
            "Data columns (total 15 columns):\n",
            " #   Column        Non-Null Count  Dtype  \n",
            "---  ------        --------------  -----  \n",
            " 0   passenger_id  850 non-null    int64  \n",
            " 1   pclass        850 non-null    int64  \n",
            " 2   name          850 non-null    object \n",
            " 3   sex           850 non-null    object \n",
            " 4   age           850 non-null    float64\n",
            " 5   sibsp         850 non-null    int64  \n",
            " 6   parch         850 non-null    int64  \n",
            " 7   ticket        850 non-null    object \n",
            " 8   fare          849 non-null    float64\n",
            " 9   cabin         191 non-null    object \n",
            " 10  embarked      849 non-null    object \n",
            " 11  boat          308 non-null    object \n",
            " 12  body          73 non-null     float64\n",
            " 13  home.dest     464 non-null    object \n",
            " 14  survived      850 non-null    int64  \n",
            "dtypes: float64(3), int64(5), object(7)\n",
            "memory usage: 99.7+ KB\n"
          ]
        }
      ]
    },
    {
      "cell_type": "code",
      "source": [
        "data[\"fare\"] = data[\"fare\"].fillna(data[\"fare\"].mean())\n",
        "data.info()"
      ],
      "metadata": {
        "colab": {
          "base_uri": "https://localhost:8080/"
        },
        "id": "aokkEhv7BP_e",
        "outputId": "d80299de-e9c6-4394-c070-45ee8e5fd26e"
      },
      "execution_count": null,
      "outputs": [
        {
          "output_type": "stream",
          "name": "stdout",
          "text": [
            "<class 'pandas.core.frame.DataFrame'>\n",
            "RangeIndex: 850 entries, 0 to 849\n",
            "Data columns (total 15 columns):\n",
            " #   Column        Non-Null Count  Dtype  \n",
            "---  ------        --------------  -----  \n",
            " 0   passenger_id  850 non-null    int64  \n",
            " 1   pclass        850 non-null    int64  \n",
            " 2   name          850 non-null    object \n",
            " 3   sex           850 non-null    object \n",
            " 4   age           850 non-null    float64\n",
            " 5   sibsp         850 non-null    int64  \n",
            " 6   parch         850 non-null    int64  \n",
            " 7   ticket        850 non-null    object \n",
            " 8   fare          850 non-null    float64\n",
            " 9   cabin         191 non-null    object \n",
            " 10  embarked      849 non-null    object \n",
            " 11  boat          308 non-null    object \n",
            " 12  body          73 non-null     float64\n",
            " 13  home.dest     464 non-null    object \n",
            " 14  survived      850 non-null    int64  \n",
            "dtypes: float64(3), int64(5), object(7)\n",
            "memory usage: 99.7+ KB\n"
          ]
        }
      ]
    },
    {
      "cell_type": "code",
      "source": [
        "data[\"cabin\"] = data[\"cabin\"].fillna(\"U\")\n",
        "data.info()"
      ],
      "metadata": {
        "colab": {
          "base_uri": "https://localhost:8080/"
        },
        "id": "aqmLD_paBTmR",
        "outputId": "abb07294-86bd-4e61-f0a7-bf0c72ac34e8"
      },
      "execution_count": null,
      "outputs": [
        {
          "output_type": "stream",
          "name": "stdout",
          "text": [
            "<class 'pandas.core.frame.DataFrame'>\n",
            "RangeIndex: 850 entries, 0 to 849\n",
            "Data columns (total 15 columns):\n",
            " #   Column        Non-Null Count  Dtype  \n",
            "---  ------        --------------  -----  \n",
            " 0   passenger_id  850 non-null    int64  \n",
            " 1   pclass        850 non-null    int64  \n",
            " 2   name          850 non-null    object \n",
            " 3   sex           850 non-null    object \n",
            " 4   age           850 non-null    float64\n",
            " 5   sibsp         850 non-null    int64  \n",
            " 6   parch         850 non-null    int64  \n",
            " 7   ticket        850 non-null    object \n",
            " 8   fare          850 non-null    float64\n",
            " 9   cabin         850 non-null    object \n",
            " 10  embarked      849 non-null    object \n",
            " 11  boat          308 non-null    object \n",
            " 12  body          73 non-null     float64\n",
            " 13  home.dest     464 non-null    object \n",
            " 14  survived      850 non-null    int64  \n",
            "dtypes: float64(3), int64(5), object(7)\n",
            "memory usage: 99.7+ KB\n"
          ]
        }
      ]
    },
    {
      "cell_type": "code",
      "source": [
        "data = data.dropna(subset=\"embarked\")\n",
        "data.info()"
      ],
      "metadata": {
        "colab": {
          "base_uri": "https://localhost:8080/"
        },
        "id": "_hUn4VV9BWaO",
        "outputId": "1fca9cbe-9601-45ef-db48-9098a9f6f5d3"
      },
      "execution_count": null,
      "outputs": [
        {
          "output_type": "stream",
          "name": "stdout",
          "text": [
            "<class 'pandas.core.frame.DataFrame'>\n",
            "Index: 849 entries, 0 to 849\n",
            "Data columns (total 15 columns):\n",
            " #   Column        Non-Null Count  Dtype  \n",
            "---  ------        --------------  -----  \n",
            " 0   passenger_id  849 non-null    int64  \n",
            " 1   pclass        849 non-null    int64  \n",
            " 2   name          849 non-null    object \n",
            " 3   sex           849 non-null    object \n",
            " 4   age           849 non-null    float64\n",
            " 5   sibsp         849 non-null    int64  \n",
            " 6   parch         849 non-null    int64  \n",
            " 7   ticket        849 non-null    object \n",
            " 8   fare          849 non-null    float64\n",
            " 9   cabin         849 non-null    object \n",
            " 10  embarked      849 non-null    object \n",
            " 11  boat          307 non-null    object \n",
            " 12  body          73 non-null     float64\n",
            " 13  home.dest     464 non-null    object \n",
            " 14  survived      849 non-null    int64  \n",
            "dtypes: float64(3), int64(5), object(7)\n",
            "memory usage: 106.1+ KB\n"
          ]
        }
      ]
    },
    {
      "cell_type": "code",
      "source": [
        "print(data[\"cabin\"].value_counts())\n",
        "data[\"cabin\"] = data[\"cabin\"].map(lambda x: x[0])\n",
        "print(data[\"cabin\"].value_counts())"
      ],
      "metadata": {
        "colab": {
          "base_uri": "https://localhost:8080/"
        },
        "id": "gqHedDFmBYKW",
        "outputId": "a6cab016-ce66-44b1-8102-7c82218ef4de"
      },
      "execution_count": null,
      "outputs": [
        {
          "output_type": "stream",
          "name": "stdout",
          "text": [
            "cabin\n",
            "U                  659\n",
            "B57 B59 B63 B66      4\n",
            "B96 B98              4\n",
            "G6                   4\n",
            "D                    4\n",
            "                  ... \n",
            "C46                  1\n",
            "E31                  1\n",
            "C93                  1\n",
            "C39                  1\n",
            "B37                  1\n",
            "Name: count, Length: 135, dtype: int64\n",
            "cabin\n",
            "U    659\n",
            "C     62\n",
            "B     44\n",
            "D     31\n",
            "E     24\n",
            "F     12\n",
            "A     12\n",
            "G      4\n",
            "T      1\n",
            "Name: count, dtype: int64\n"
          ]
        },
        {
          "output_type": "stream",
          "name": "stderr",
          "text": [
            "<ipython-input-19-06376797666f>:2: SettingWithCopyWarning: \n",
            "A value is trying to be set on a copy of a slice from a DataFrame.\n",
            "Try using .loc[row_indexer,col_indexer] = value instead\n",
            "\n",
            "See the caveats in the documentation: https://pandas.pydata.org/pandas-docs/stable/user_guide/indexing.html#returning-a-view-versus-a-copy\n",
            "  data[\"cabin\"] = data[\"cabin\"].map(lambda x: x[0])\n"
          ]
        }
      ]
    },
    {
      "cell_type": "markdown",
      "source": [
        "#Preprocessing: Deal with non-number value"
      ],
      "metadata": {
        "id": "nzhRIJ1aBmEW"
      }
    },
    {
      "cell_type": "code",
      "source": [
        "from sklearn.preprocessing import LabelEncoder\n",
        "encoder = LabelEncoder()\n",
        "data[\"sex\"] = encoder.fit_transform(data[\"sex\"])\n",
        "data[\"embarked\"] = encoder.fit_transform(data[\"embarked\"])\n",
        "data[\"cabin\"] = encoder.fit_transform(data[\"cabin\"])\n",
        "data.info()"
      ],
      "metadata": {
        "colab": {
          "base_uri": "https://localhost:8080/"
        },
        "id": "-qkF8glHBaVv",
        "outputId": "65d71458-8162-4e98-9be5-5ae3b5f431f8"
      },
      "execution_count": null,
      "outputs": [
        {
          "output_type": "stream",
          "name": "stdout",
          "text": [
            "<class 'pandas.core.frame.DataFrame'>\n",
            "Index: 849 entries, 0 to 849\n",
            "Data columns (total 15 columns):\n",
            " #   Column        Non-Null Count  Dtype  \n",
            "---  ------        --------------  -----  \n",
            " 0   passenger_id  849 non-null    int64  \n",
            " 1   pclass        849 non-null    int64  \n",
            " 2   name          849 non-null    object \n",
            " 3   sex           849 non-null    int64  \n",
            " 4   age           849 non-null    float64\n",
            " 5   sibsp         849 non-null    int64  \n",
            " 6   parch         849 non-null    int64  \n",
            " 7   ticket        849 non-null    object \n",
            " 8   fare          849 non-null    float64\n",
            " 9   cabin         849 non-null    int64  \n",
            " 10  embarked      849 non-null    int64  \n",
            " 11  boat          307 non-null    object \n",
            " 12  body          73 non-null     float64\n",
            " 13  home.dest     464 non-null    object \n",
            " 14  survived      849 non-null    int64  \n",
            "dtypes: float64(3), int64(8), object(4)\n",
            "memory usage: 106.1+ KB\n"
          ]
        }
      ]
    },
    {
      "cell_type": "markdown",
      "source": [
        "#Feature Selection"
      ],
      "metadata": {
        "id": "wZ9Jqyw-Bul9"
      }
    },
    {
      "cell_type": "code",
      "source": [
        "dataCorr = data.corr(numeric_only=True)\n",
        "sb.heatmap(dataCorr, annot=True)"
      ],
      "metadata": {
        "colab": {
          "base_uri": "https://localhost:8080/"
        },
        "id": "PRnaU32cBddN",
        "outputId": "0a8a43ee-9bf0-4f4d-ccb4-ba1b3926d1f0"
      },
      "execution_count": null,
      "outputs": [
        {
          "output_type": "execute_result",
          "data": {
            "text/plain": [
              "<Axes: >"
            ]
          },
          "metadata": {},
          "execution_count": 21
        },
        {
          "output_type": "display_data",
          "data": {
            "text/plain": [
              "<Figure size 640x480 with 2 Axes>"
            ],
            "image/png": "[encoded data removed]"
          },
          "metadata": {}
        }
      ]
    },
    {
      "cell_type": "code",
      "source": [
        "X = data[[\"pclass\", \"sex\", \"fare\", \"cabin\"]]\n",
        "Y = data[\"survived\"]"
      ],
      "metadata": {
        "id": "c0k5omQMBvW9"
      },
      "execution_count": null,
      "outputs": []
    },
    {
      "cell_type": "code",
      "source": [
        "from sklearn.model_selection import train_test_split\n",
        "\n",
        "XTrain, XTest, YTrain, YTest = train_test_split(X, Y, test_size=0.3,\n",
        "                                                random_state=42)"
      ],
      "metadata": {
        "id": "tsAHsKtVDLUB"
      },
      "execution_count": null,
      "outputs": []
    },
    {
      "cell_type": "markdown",
      "source": [
        "# Data Modelling (DT)"
      ],
      "metadata": {
        "id": "M0uc-NBunjbP"
      }
    },
    {
      "cell_type": "code",
      "source": [
        "from sklearn.tree import DecisionTreeClassifier\n",
        "\n",
        "model = DecisionTreeClassifier().fit(XTrain, YTrain)"
      ],
      "metadata": {
        "id": "7r2YN69FDOfC"
      },
      "execution_count": null,
      "outputs": []
    },
    {
      "cell_type": "code",
      "source": [
        "from sklearn.metrics import classification_report\n",
        "\n",
        "YTestPred = model.predict(XTest)\n",
        "YTrainPred = model.predict(XTrain)\n",
        "print(\"Train : \" , classification_report(YTrain, YTrainPred))\n",
        "print(\"Test : \", classification_report(YTest, YTestPred))"
      ],
      "metadata": {
        "colab": {
          "base_uri": "https://localhost:8080/"
        },
        "id": "sT3pVDzrDiII",
        "outputId": "fe2d9443-a373-4880-e563-62b9e506681f"
      },
      "execution_count": null,
      "outputs": [
        {
          "output_type": "stream",
          "name": "stdout",
          "text": [
            "Train :                precision    recall  f1-score   support\n",
            "\n",
            "           0       0.91      0.97      0.94       368\n",
            "           1       0.95      0.85      0.90       226\n",
            "\n",
            "    accuracy                           0.93       594\n",
            "   macro avg       0.93      0.91      0.92       594\n",
            "weighted avg       0.93      0.93      0.93       594\n",
            "\n",
            "Test :                precision    recall  f1-score   support\n",
            "\n",
            "           0       0.83      0.80      0.81       169\n",
            "           1       0.63      0.67      0.65        86\n",
            "\n",
            "    accuracy                           0.76       255\n",
            "   macro avg       0.73      0.74      0.73       255\n",
            "weighted avg       0.76      0.76      0.76       255\n",
            "\n"
          ]
        }
      ]
    },
    {
      "cell_type": "code",
      "source": [
        "from sklearn.metrics import roc_auc_score\n",
        "\n",
        "print(\"Train : \" , roc_auc_score(YTrain, YTrainPred))\n",
        "print(\"Test : \", roc_auc_score(YTest, YTestPred))"
      ],
      "metadata": {
        "colab": {
          "base_uri": "https://localhost:8080/"
        },
        "collapsed": true,
        "id": "aQy3BThYG30U",
        "outputId": "01841fda-ebad-4a4f-b68b-3a33f717d3da"
      },
      "execution_count": null,
      "outputs": [
        {
          "output_type": "stream",
          "name": "stdout",
          "text": [
            "Train :  0.9111918045402078\n",
            "Test :  0.7366175863492499\n"
          ]
        }
      ]
    },
    {
      "cell_type": "code",
      "source": [
        "ConfusionMatrixDisplay = pd.crosstab(YTest, YTestPred,\n",
        "                                    rownames=['Actual'], colnames=['Predicted'])\n",
        "sb.heatmap(ConfusionMatrixDisplay, annot=True, fmt=\".0f\")"
      ],
      "metadata": {
        "colab": {
          "base_uri": "https://localhost:8080/",
          "height": 466
        },
        "collapsed": true,
        "id": "CuO5L2MsDkLZ",
        "outputId": "866ce56b-a41f-4010-fb41-4f97d3078c8c"
      },
      "execution_count": null,
      "outputs": [
        {
          "output_type": "execute_result",
          "data": {
            "text/plain": [
              "<Axes: xlabel='Predicted', ylabel='Actual'>"
            ]
          },
          "metadata": {},
          "execution_count": 30
        },
        {
          "output_type": "display_data",
          "data": {
            "text/plain": [
              "<Figure size 640x480 with 2 Axes>"
            ],
            "image/png": "[encoded data removed]"
          },
          "metadata": {}
        }
      ]
    },
    {
      "cell_type": "markdown",
      "source": [
        "#Data Resampling"
      ],
      "metadata": {
        "id": "euEgqR4BIX2I"
      }
    },
    {
      "cell_type": "code",
      "source": [
        "#0    537 -> 312  -> 537\n",
        "#1    312 -> 312  -> 537\n",
        "\n",
        "nNot, nSurvived = data[\"survived\"].value_counts()\n",
        "dataSurvived = data[data[\"survived\"] == 1]\n",
        "dataNot = data[data[\"survived\"] == 0]\n",
        "\n",
        "dataNot = dataNot.sample(nSurvived)\n",
        "dataTitanicUResampled = pd.concat([dataNot, dataSurvived], axis=0)\n",
        "\n",
        "print(dataTitanicUResampled[\"survived\"].value_counts())\n",
        "print(dataTitanicUResampled.info())\n",
        "print(dataTitanicUResampled.describe())"
      ],
      "metadata": {
        "id": "LpZE21EKIWBI",
        "collapsed": true,
        "colab": {
          "base_uri": "https://localhost:8080/"
        },
        "outputId": "edd36630-813b-482a-9c58-f5a123776954"
      },
      "execution_count": null,
      "outputs": [
        {
          "output_type": "stream",
          "name": "stdout",
          "text": [
            "survived\n",
            "0    312\n",
            "1    312\n",
            "Name: count, dtype: int64\n",
            "<class 'pandas.core.frame.DataFrame'>\n",
            "Index: 624 entries, 23 to 847\n",
            "Data columns (total 15 columns):\n",
            " #   Column        Non-Null Count  Dtype  \n",
            "---  ------        --------------  -----  \n",
            " 0   passenger_id  624 non-null    int64  \n",
            " 1   pclass        624 non-null    int64  \n",
            " 2   name          624 non-null    object \n",
            " 3   sex           624 non-null    int64  \n",
            " 4   age           624 non-null    float64\n",
            " 5   sibsp         624 non-null    int64  \n",
            " 6   parch         624 non-null    int64  \n",
            " 7   ticket        624 non-null    object \n",
            " 8   fare          624 non-null    float64\n",
            " 9   cabin         624 non-null    int64  \n",
            " 10  embarked      624 non-null    int64  \n",
            " 11  boat          303 non-null    object \n",
            " 12  body          40 non-null     float64\n",
            " 13  home.dest     351 non-null    object \n",
            " 14  survived      624 non-null    int64  \n",
            "dtypes: float64(3), int64(8), object(4)\n",
            "memory usage: 78.0+ KB\n",
            "None\n",
            "       passenger_id      pclass         sex         age       sibsp  \\\n",
            "count    624.000000  624.000000  624.000000  624.000000  624.000000   \n",
            "mean     638.841346    2.262821    0.581731   29.564644    0.504808   \n",
            "std      386.324532    0.854501    0.493671   13.386629    1.053912   \n",
            "min        1.000000    1.000000    0.000000    0.166700    0.000000   \n",
            "25%      304.750000    1.000000    0.000000   22.000000    0.000000   \n",
            "50%      628.500000    3.000000    1.000000   29.519847    0.000000   \n",
            "75%      979.500000    3.000000    1.000000   35.000000    1.000000   \n",
            "max     1307.000000    3.000000    1.000000   80.000000    8.000000   \n",
            "\n",
            "            parch        fare       cabin    embarked        body    survived  \n",
            "count  624.000000  624.000000  624.000000  624.000000   40.000000  624.000000  \n",
            "mean     0.397436   37.447142    6.588141    1.469551  168.200000    0.500000  \n",
            "std      0.864343   59.008604    2.544989    0.826353  106.901153    0.500401  \n",
            "min      0.000000    0.000000    0.000000    0.000000    7.000000    0.000000  \n",
            "25%      0.000000    7.925000    6.750000    1.000000   77.750000    0.000000  \n",
            "50%      0.000000   15.500000    8.000000    2.000000  162.000000    0.500000  \n",
            "75%      0.000000   34.103276    8.000000    2.000000  268.000000    1.000000  \n",
            "max      9.000000  512.329200    8.000000    2.000000  327.000000    1.000000  \n"
          ]
        }
      ]
    },
    {
      "cell_type": "code",
      "source": [
        "nNot, nSurvived = data[\"survived\"].value_counts()\n",
        "dataSurvived = data[data[\"survived\"] == 1]\n",
        "dataNot = data[data[\"survived\"] == 0]\n",
        "\n",
        "dataSurvived = dataSurvived.sample(nNot, replace=True)\n",
        "dataTitanicOResampled = pd.concat([dataNot, dataSurvived], axis=0)\n",
        "\n",
        "print(dataTitanicOResampled[\"survived\"].value_counts())\n",
        "print(dataTitanicOResampled.info())\n",
        "print(dataTitanicOResampled.describe())"
      ],
      "metadata": {
        "colab": {
          "base_uri": "https://localhost:8080/"
        },
        "id": "XPBwZiXHIkV-",
        "outputId": "81bea082-ab04-4848-9a1b-3d9b04225716"
      },
      "execution_count": null,
      "outputs": [
        {
          "output_type": "stream",
          "name": "stdout",
          "text": [
            "survived\n",
            "0    537\n",
            "1    537\n",
            "Name: count, dtype: int64\n",
            "<class 'pandas.core.frame.DataFrame'>\n",
            "Index: 1074 entries, 1 to 220\n",
            "Data columns (total 15 columns):\n",
            " #   Column        Non-Null Count  Dtype  \n",
            "---  ------        --------------  -----  \n",
            " 0   passenger_id  1074 non-null   int64  \n",
            " 1   pclass        1074 non-null   int64  \n",
            " 2   name          1074 non-null   object \n",
            " 3   sex           1074 non-null   int64  \n",
            " 4   age           1074 non-null   float64\n",
            " 5   sibsp         1074 non-null   int64  \n",
            " 6   parch         1074 non-null   int64  \n",
            " 7   ticket        1074 non-null   object \n",
            " 8   fare          1074 non-null   float64\n",
            " 9   cabin         1074 non-null   int64  \n",
            " 10  embarked      1074 non-null   int64  \n",
            " 11  boat          525 non-null    object \n",
            " 12  body          73 non-null     float64\n",
            " 13  home.dest     645 non-null    object \n",
            " 14  survived      1074 non-null   int64  \n",
            "dtypes: float64(3), int64(8), object(4)\n",
            "memory usage: 134.2+ KB\n",
            "None\n",
            "       passenger_id       pclass          sex          age        sibsp  \\\n",
            "count   1074.000000  1074.000000  1074.000000  1074.000000  1074.000000   \n",
            "mean     622.276536     2.235568     0.574488    29.683945     0.480447   \n",
            "std      383.609483     0.848990     0.494651    13.662094     1.018967   \n",
            "min        1.000000     1.000000     0.000000     0.166700     0.000000   \n",
            "25%      285.250000     1.000000     0.000000    22.000000     0.000000   \n",
            "50%      603.000000     3.000000     1.000000    29.519847     0.000000   \n",
            "75%      955.750000     3.000000     1.000000    35.000000     1.000000   \n",
            "max     1307.000000     3.000000     1.000000    80.000000     8.000000   \n",
            "\n",
            "             parch         fare        cabin     embarked        body  \\\n",
            "count  1074.000000  1074.000000  1074.000000  1074.000000   73.000000   \n",
            "mean      0.395717    37.424659     6.503724     1.470205  165.821918   \n",
            "std       0.853052    61.745577     2.610197     0.823437   99.068487   \n",
            "min       0.000000     0.000000     0.000000     0.000000    4.000000   \n",
            "25%       0.000000     8.050000     5.000000     1.000000   75.000000   \n",
            "50%       0.000000    15.500000     8.000000     2.000000  166.000000   \n",
            "75%       0.750000    31.500000     8.000000     2.000000  260.000000   \n",
            "max       9.000000   512.329200     8.000000     2.000000  328.000000   \n",
            "\n",
            "          survived  \n",
            "count  1074.000000  \n",
            "mean      0.500000  \n",
            "std       0.500233  \n",
            "min       0.000000  \n",
            "25%       0.000000  \n",
            "50%       0.500000  \n",
            "75%       1.000000  \n",
            "max       1.000000  \n"
          ]
        }
      ]
    },
    {
      "cell_type": "code",
      "source": [
        "XU = dataTitanicUResampled[[\"pclass\", \"sex\", \"age\", \"cabin\"]]\n",
        "YU = dataTitanicUResampled[\"survived\"]\n",
        "\n",
        "XO = dataTitanicOResampled[[\"pclass\", \"sex\", \"age\", \"cabin\"]]\n",
        "YO = dataTitanicOResampled[\"survived\"]\n",
        "\n",
        "XUTrain, XUTest, YUTrain, YUTest = train_test_split(XU, YU, test_size=0.3)\n",
        "XOTrain, XOTest, YOTrain, YOTest = train_test_split(XO, YO, test_size=0.3)"
      ],
      "metadata": {
        "id": "obudPqFYIpMG"
      },
      "execution_count": null,
      "outputs": []
    },
    {
      "cell_type": "code",
      "source": [
        "model = DecisionTreeClassifier().fit(XUTrain, YUTrain)"
      ],
      "metadata": {
        "id": "KHg3zBJWJe79",
        "colab": {
          "base_uri": "https://localhost:8080/",
          "height": 144
        },
        "outputId": "198d7daf-ee93-4de8-a891-d5d987df5d40"
      },
      "execution_count": null,
      "outputs": [
        {
          "output_type": "error",
          "ename": "NameError",
          "evalue": "name 'DecisionTreeClassifier' is not defined",
          "traceback": [
            "\u001b[0;31m---------------------------------------------------------------------------\u001b[0m",
            "\u001b[0;31mNameError\u001b[0m                                 Traceback (most recent call last)",
            "\u001b[0;32m<ipython-input-27-afbcf78ff6d3>\u001b[0m in \u001b[0;36m<cell line: 0>\u001b[0;34m()\u001b[0m\n\u001b[0;32m----> 1\u001b[0;31m \u001b[0mmodel\u001b[0m \u001b[0;34m=\u001b[0m \u001b[0mDecisionTreeClassifier\u001b[0m\u001b[0;34m(\u001b[0m\u001b[0;34m)\u001b[0m\u001b[0;34m.\u001b[0m\u001b[0mfit\u001b[0m\u001b[0;34m(\u001b[0m\u001b[0mXUTrain\u001b[0m\u001b[0;34m,\u001b[0m \u001b[0mYUTrain\u001b[0m\u001b[0;34m)\u001b[0m\u001b[0;34m\u001b[0m\u001b[0;34m\u001b[0m\u001b[0m\n\u001b[0m",
            "\u001b[0;31mNameError\u001b[0m: name 'DecisionTreeClassifier' is not defined"
          ]
        }
      ]
    },
    {
      "cell_type": "code",
      "source": [
        "YTestPred = model.predict(XUTest)\n",
        "YTrainPred = model.predict(XUTrain)\n",
        "print(\"Train : \" , classification_report(YUTrain, YTrainPred))\n",
        "print(\"Test : \", classification_report(YUTest, YTestPred))"
      ],
      "metadata": {
        "id": "wcYv5mogJlNV"
      },
      "execution_count": null,
      "outputs": []
    },
    {
      "cell_type": "code",
      "source": [
        "print(\"Train : \" , roc_auc_score(YUTrain, YTrainPred))\n",
        "print(\"Test : \", roc_auc_score(YUTest, YTestPred))"
      ],
      "metadata": {
        "id": "42g6hrA2JqOt"
      },
      "execution_count": null,
      "outputs": []
    },
    {
      "cell_type": "code",
      "source": [
        "ConfusionMatrixDisplay = pd.crosstab(YUTest, YTestPred,\n",
        "                                    rownames=['Actual'], colnames=['Predicted'])\n",
        "sb.heatmap(ConfusionMatrixDisplay, annot=True, fmt=\".0f\")"
      ],
      "metadata": {
        "id": "wqF9hrHbJzNN"
      },
      "execution_count": null,
      "outputs": []
    },
    {
      "cell_type": "code",
      "source": [
        "YTestPred = model.predict(XOTest)\n",
        "YTrainPred = model.predict(XOTrain)\n",
        "print(\"Train : \" , classification_report(YOTrain, YTrainPred))\n",
        "print(\"Test : \", classification_report(YOTest, YTestPred))"
      ],
      "metadata": {
        "id": "PatVEj9vJ6ut"
      },
      "execution_count": null,
      "outputs": []
    },
    {
      "cell_type": "code",
      "source": [
        "print(\"Train : \" , roc_auc_score(YOTrain, YTrainPred))\n",
        "print(\"Test : \", roc_auc_score(YOTest, YTestPred))"
      ],
      "metadata": {
        "id": "9G6yXCMFKA1M"
      },
      "execution_count": null,
      "outputs": []
    },
    {
      "cell_type": "code",
      "source": [
        "ConfusionMatrixDisplay = pd.crosstab(YOTest, YTestPred,\n",
        "                                    rownames=['Actual'], colnames=['Predicted'])\n",
        "sb.heatmap(ConfusionMatrixDisplay, annot=True, fmt=\".0f\")"
      ],
      "metadata": {
        "id": "QMir588yKEK9"
      },
      "execution_count": null,
      "outputs": []
    },
    {
      "cell_type": "markdown",
      "source": [
        "#Improve the model: Hyper-parameter search"
      ],
      "metadata": {
        "id": "IUdH-hTiKQuu"
      }
    },
    {
      "cell_type": "code",
      "source": [
        "\n",
        "from sklearn.model_selection import GridSearchCV\n",
        "param_grid = {\"criterion\" : [\"gini\", \"entropy\"],\n",
        "              \"max_depth\" : [100, 1000, 3000]}\n",
        "\n",
        "grid = GridSearchCV(DecisionTreeClassifier(), param_grid, refit = True)\n",
        "grid.fit(XOTrain, YOTrain)\n",
        "\n",
        "print(grid.best_params_)\n",
        "print(grid.best_estimator_)"
      ],
      "metadata": {
        "colab": {
          "base_uri": "https://localhost:8080/"
        },
        "id": "mwEvd5O-KGht",
        "outputId": "6b6c1ce6-6c8b-4297-cfa4-a1f25734025e"
      },
      "execution_count": null,
      "outputs": [
        {
          "output_type": "stream",
          "name": "stdout",
          "text": [
            "{'criterion': 'gini', 'max_depth': 3000}\n",
            "DecisionTreeClassifier(max_depth=3000)\n"
          ]
        }
      ]
    },
    {
      "cell_type": "code",
      "source": [
        "model = DecisionTreeClassifier(criterion = \"gini\", max_depth = 3000).fit(XOTrain, YOTrain)"
      ],
      "metadata": {
        "id": "cbLE9_QILIs6"
      },
      "execution_count": null,
      "outputs": []
    },
    {
      "cell_type": "code",
      "source": [
        "YTestPred = model.predict(XOTest)\n",
        "YTrainPred = model.predict(XOTrain)\n",
        "print(\"Train : \" , classification_report(YOTrain, YTrainPred))\n",
        "print(\"Test : \", classification_report(YOTest, YTestPred))"
      ],
      "metadata": {
        "colab": {
          "base_uri": "https://localhost:8080/"
        },
        "id": "6yVhKPVOV9jX",
        "outputId": "ce84c9c9-341f-43d5-b597-ef64c3aa639b"
      },
      "execution_count": null,
      "outputs": [
        {
          "output_type": "stream",
          "name": "stdout",
          "text": [
            "Train :                precision    recall  f1-score   support\n",
            "\n",
            "           0       0.90      0.92      0.91       374\n",
            "           1       0.92      0.90      0.91       377\n",
            "\n",
            "    accuracy                           0.91       751\n",
            "   macro avg       0.91      0.91      0.91       751\n",
            "weighted avg       0.91      0.91      0.91       751\n",
            "\n",
            "Test :                precision    recall  f1-score   support\n",
            "\n",
            "           0       0.81      0.80      0.81       163\n",
            "           1       0.80      0.81      0.80       160\n",
            "\n",
            "    accuracy                           0.80       323\n",
            "   macro avg       0.80      0.80      0.80       323\n",
            "weighted avg       0.80      0.80      0.80       323\n",
            "\n"
          ]
        }
      ]
    },
    {
      "cell_type": "code",
      "source": [
        "print(\"Train : \" , roc_auc_score(YOTrain, YTrainPred))\n",
        "print(\"Test : \", roc_auc_score(YOTest, YTestPred))"
      ],
      "metadata": {
        "colab": {
          "base_uri": "https://localhost:8080/"
        },
        "id": "4ut4U4MpWAmO",
        "outputId": "3110d42d-5034-4964-8df1-4d819cc0161b"
      },
      "execution_count": null,
      "outputs": [
        {
          "output_type": "stream",
          "name": "stdout",
          "text": [
            "Train :  0.9108214300912069\n",
            "Test :  0.804965490797546\n"
          ]
        }
      ]
    },
    {
      "cell_type": "code",
      "source": [
        "ConfusionMatrixDisplay = pd.crosstab(YOTest, YTestPred,\n",
        "                                    rownames=['Actual'], colnames=['Predicted'])\n",
        "sb.heatmap(ConfusionMatrixDisplay, annot=True, fmt=\".0f\")"
      ],
      "metadata": {
        "id": "3HHeM_0oWFA2",
        "outputId": "6775e5ad-e140-4806-a237-b8c012fd24c2",
        "colab": {
          "base_uri": "https://localhost:8080/",
          "height": 466
        }
      },
      "execution_count": null,
      "outputs": [
        {
          "output_type": "execute_result",
          "data": {
            "text/plain": [
              "<Axes: xlabel='Predicted', ylabel='Actual'>"
            ]
          },
          "metadata": {},
          "execution_count": 86
        },
        {
          "output_type": "display_data",
          "data": {
            "text/plain": [
              "<Figure size 640x480 with 2 Axes>"
            ],
            "image/png": "[encoded data removed]"
          },
          "metadata": {}
        }
      ]
    },
    {
      "cell_type": "markdown",
      "source": [
        "# Data Modelling (RF)"
      ],
      "metadata": {
        "id": "J8jYuCQEGL28"
      }
    },
    {
      "cell_type": "code",
      "source": [
        "from sklearn.ensemble import RandomForestClassifier\n",
        "\n",
        "model = RandomForestClassifier().fit(XTrain, YTrain)"
      ],
      "metadata": {
        "id": "fxgpJOoVGL29"
      },
      "execution_count": null,
      "outputs": []
    },
    {
      "cell_type": "code",
      "source": [
        "from sklearn.metrics import classification_report\n",
        "\n",
        "YTestPred = model.predict(XTest)\n",
        "YTrainPred = model.predict(XTrain)\n",
        "print(\"Train : \" , classification_report(YTrain, YTrainPred))\n",
        "print(\"Test : \", classification_report(YTest, YTestPred))"
      ],
      "metadata": {
        "colab": {
          "base_uri": "https://localhost:8080/"
        },
        "outputId": "fbcec6d2-2384-466a-9152-c6601beadd78",
        "id": "ImXycQM3GL29"
      },
      "execution_count": null,
      "outputs": [
        {
          "output_type": "stream",
          "name": "stdout",
          "text": [
            "Train :                precision    recall  f1-score   support\n",
            "\n",
            "           0       0.92      0.97      0.94       368\n",
            "           1       0.94      0.86      0.90       226\n",
            "\n",
            "    accuracy                           0.93       594\n",
            "   macro avg       0.93      0.91      0.92       594\n",
            "weighted avg       0.93      0.93      0.93       594\n",
            "\n",
            "Test :                precision    recall  f1-score   support\n",
            "\n",
            "           0       0.83      0.80      0.82       169\n",
            "           1       0.64      0.67      0.66        86\n",
            "\n",
            "    accuracy                           0.76       255\n",
            "   macro avg       0.73      0.74      0.74       255\n",
            "weighted avg       0.76      0.76      0.76       255\n",
            "\n"
          ]
        }
      ]
    },
    {
      "cell_type": "code",
      "source": [
        "from sklearn.metrics import roc_auc_score\n",
        "\n",
        "print(\"Train : \" , roc_auc_score(YTrain, YTrainPred))\n",
        "print(\"Test : \", roc_auc_score(YTest, YTestPred))"
      ],
      "metadata": {
        "colab": {
          "base_uri": "https://localhost:8080/"
        },
        "collapsed": true,
        "outputId": "6cf00226-98e2-42c0-e162-f464ca962749",
        "id": "N6ZXYgMMGL29"
      },
      "execution_count": null,
      "outputs": [
        {
          "output_type": "stream",
          "name": "stdout",
          "text": [
            "Train :  0.9128991919969218\n",
            "Test :  0.7395761662309068\n"
          ]
        }
      ]
    },
    {
      "cell_type": "code",
      "source": [
        "ConfusionMatrixDisplay = pd.crosstab(YTest, YTestPred,\n",
        "                                    rownames=['Actual'], colnames=['Predicted'])\n",
        "sb.heatmap(ConfusionMatrixDisplay, annot=True, fmt=\".0f\")"
      ],
      "metadata": {
        "colab": {
          "base_uri": "https://localhost:8080/",
          "height": 466
        },
        "collapsed": true,
        "outputId": "a3ac9f96-216d-400f-fff8-ccda25a64580",
        "id": "Ya7t_YN1GL29"
      },
      "execution_count": null,
      "outputs": [
        {
          "output_type": "execute_result",
          "data": {
            "text/plain": [
              "<Axes: xlabel='Predicted', ylabel='Actual'>"
            ]
          },
          "metadata": {},
          "execution_count": 70
        },
        {
          "output_type": "display_data",
          "data": {
            "text/plain": [
              "<Figure size 640x480 with 2 Axes>"
            ],
            "image/png": "[encoded data removed]"
          },
          "metadata": {}
        }
      ]
    },
    {
      "cell_type": "markdown",
      "source": [
        "#Data Resampling (RF)"
      ],
      "metadata": {
        "id": "Z3a2TI5HGhIZ"
      }
    },
    {
      "cell_type": "code",
      "source": [
        "#0    537 -> 312  -> 537\n",
        "#1    312 -> 312  -> 537\n",
        "\n",
        "nNot, nSurvived = data[\"survived\"].value_counts()\n",
        "dataSurvived = data[data[\"survived\"] == 1]\n",
        "dataNot = data[data[\"survived\"] == 0]\n",
        "\n",
        "dataNot = dataNot.sample(nSurvived)\n",
        "dataTitanicUResampled = pd.concat([dataNot, dataSurvived], axis=0)\n",
        "\n",
        "print(dataTitanicUResampled[\"survived\"].value_counts())\n",
        "print(dataTitanicUResampled.info())\n",
        "print(dataTitanicUResampled.describe())"
      ],
      "metadata": {
        "collapsed": true,
        "colab": {
          "base_uri": "https://localhost:8080/"
        },
        "outputId": "4f963e3b-1da5-4d6d-93ac-fb28dbd0706f",
        "id": "EIt1SOwNGhIZ"
      },
      "execution_count": null,
      "outputs": [
        {
          "output_type": "stream",
          "name": "stdout",
          "text": [
            "survived\n",
            "0    312\n",
            "1    312\n",
            "Name: count, dtype: int64\n",
            "<class 'pandas.core.frame.DataFrame'>\n",
            "Index: 624 entries, 668 to 847\n",
            "Data columns (total 15 columns):\n",
            " #   Column        Non-Null Count  Dtype  \n",
            "---  ------        --------------  -----  \n",
            " 0   passenger_id  624 non-null    int64  \n",
            " 1   pclass        624 non-null    int64  \n",
            " 2   name          624 non-null    object \n",
            " 3   sex           624 non-null    int64  \n",
            " 4   age           624 non-null    float64\n",
            " 5   sibsp         624 non-null    int64  \n",
            " 6   parch         624 non-null    int64  \n",
            " 7   ticket        624 non-null    object \n",
            " 8   fare          624 non-null    float64\n",
            " 9   cabin         624 non-null    int64  \n",
            " 10  embarked      624 non-null    int64  \n",
            " 11  boat          306 non-null    object \n",
            " 12  body          46 non-null     float64\n",
            " 13  home.dest     355 non-null    object \n",
            " 14  survived      624 non-null    int64  \n",
            "dtypes: float64(3), int64(8), object(4)\n",
            "memory usage: 78.0+ KB\n",
            "None\n",
            "       passenger_id      pclass         sex         age       sibsp  \\\n",
            "count    624.000000  624.000000  624.000000  624.000000  624.000000   \n",
            "mean     638.657051    2.256410    0.580128   29.049935    0.490385   \n",
            "std      384.730488    0.852693    0.493934   13.101159    0.969803   \n",
            "min        1.000000    1.000000    0.000000    0.166700    0.000000   \n",
            "25%      304.750000    1.000000    0.000000   21.000000    0.000000   \n",
            "50%      631.000000    3.000000    1.000000   29.519847    0.000000   \n",
            "75%      972.750000    3.000000    1.000000   35.000000    1.000000   \n",
            "max     1306.000000    3.000000    1.000000   80.000000    8.000000   \n",
            "\n",
            "            parch        fare       cabin    embarked        body    survived  \n",
            "count  624.000000  624.000000  624.000000  624.000000   46.000000  624.000000  \n",
            "mean     0.410256   37.493215    6.500000    1.461538  162.391304    0.500000  \n",
            "std      0.907411   58.550301    2.621678    0.839511   99.322925    0.500401  \n",
            "min      0.000000    0.000000    0.000000    0.000000    7.000000    0.000000  \n",
            "25%      0.000000    8.050000    5.000000    1.000000   76.500000    0.000000  \n",
            "50%      0.000000   15.500000    8.000000    2.000000  155.500000    0.500000  \n",
            "75%      1.000000   34.656250    8.000000    2.000000  254.750000    1.000000  \n",
            "max      9.000000  512.329200    8.000000    2.000000  327.000000    1.000000  \n"
          ]
        }
      ]
    },
    {
      "cell_type": "code",
      "source": [
        "nNot, nSurvived = data[\"survived\"].value_counts()\n",
        "dataSurvived = data[data[\"survived\"] == 1]\n",
        "dataNot = data[data[\"survived\"] == 0]\n",
        "\n",
        "dataSurvived = dataSurvived.sample(nNot, replace=True)\n",
        "dataTitanicOResampled = pd.concat([dataNot, dataSurvived], axis=0)\n",
        "\n",
        "print(dataTitanicOResampled[\"survived\"].value_counts())\n",
        "print(dataTitanicOResampled.info())\n",
        "print(dataTitanicOResampled.describe())"
      ],
      "metadata": {
        "colab": {
          "base_uri": "https://localhost:8080/"
        },
        "outputId": "008d8457-34d6-4393-d2ee-a922c04eb806",
        "id": "pOKf10y3GhIa"
      },
      "execution_count": null,
      "outputs": [
        {
          "output_type": "stream",
          "name": "stdout",
          "text": [
            "survived\n",
            "0    537\n",
            "1    537\n",
            "Name: count, dtype: int64\n",
            "<class 'pandas.core.frame.DataFrame'>\n",
            "Index: 1074 entries, 1 to 185\n",
            "Data columns (total 15 columns):\n",
            " #   Column        Non-Null Count  Dtype  \n",
            "---  ------        --------------  -----  \n",
            " 0   passenger_id  1074 non-null   int64  \n",
            " 1   pclass        1074 non-null   int64  \n",
            " 2   name          1074 non-null   object \n",
            " 3   sex           1074 non-null   int64  \n",
            " 4   age           1074 non-null   float64\n",
            " 5   sibsp         1074 non-null   int64  \n",
            " 6   parch         1074 non-null   int64  \n",
            " 7   ticket        1074 non-null   object \n",
            " 8   fare          1074 non-null   float64\n",
            " 9   cabin         1074 non-null   int64  \n",
            " 10  embarked      1074 non-null   int64  \n",
            " 11  boat          521 non-null    object \n",
            " 12  body          73 non-null     float64\n",
            " 13  home.dest     636 non-null    object \n",
            " 14  survived      1074 non-null   int64  \n",
            "dtypes: float64(3), int64(8), object(4)\n",
            "memory usage: 134.2+ KB\n",
            "None\n",
            "       passenger_id       pclass          sex          age        sibsp  \\\n",
            "count   1074.000000  1074.000000  1074.000000  1074.000000  1074.000000   \n",
            "mean     620.330540     2.229050     0.593110    29.205042     0.522346   \n",
            "std      379.880198     0.853507     0.491483    13.454454     1.037940   \n",
            "min        1.000000     1.000000     0.000000     0.166700     0.000000   \n",
            "25%      289.250000     1.000000     0.000000    22.000000     0.000000   \n",
            "50%      605.000000     3.000000     1.000000    29.519847     0.000000   \n",
            "75%      954.000000     3.000000     1.000000    34.000000     1.000000   \n",
            "max     1307.000000     3.000000     1.000000    80.000000     8.000000   \n",
            "\n",
            "             parch         fare        cabin     embarked        body  \\\n",
            "count  1074.000000  1074.000000  1074.000000  1074.000000   73.000000   \n",
            "mean      0.397579    38.085103     6.520484     1.417132  165.821918   \n",
            "std       0.835620    58.967579     2.568003     0.854310   99.068487   \n",
            "min       0.000000     0.000000     0.000000     0.000000    4.000000   \n",
            "25%       0.000000     8.050000     5.000000     1.000000   75.000000   \n",
            "50%       0.000000    15.900000     8.000000     2.000000  166.000000   \n",
            "75%       1.000000    37.004200     8.000000     2.000000  260.000000   \n",
            "max       9.000000   512.329200     8.000000     2.000000  328.000000   \n",
            "\n",
            "          survived  \n",
            "count  1074.000000  \n",
            "mean      0.500000  \n",
            "std       0.500233  \n",
            "min       0.000000  \n",
            "25%       0.000000  \n",
            "50%       0.500000  \n",
            "75%       1.000000  \n",
            "max       1.000000  \n"
          ]
        }
      ]
    },
    {
      "cell_type": "code",
      "source": [
        "XU = dataTitanicUResampled[[\"pclass\", \"sex\", \"age\", \"cabin\"]]\n",
        "YU = dataTitanicUResampled[\"survived\"]\n",
        "\n",
        "XO = dataTitanicOResampled[[\"pclass\", \"sex\", \"age\", \"cabin\"]]\n",
        "YO = dataTitanicOResampled[\"survived\"]\n",
        "\n",
        "XUTrain, XUTest, YUTrain, YUTest = train_test_split(XU, YU, test_size=0.3)\n",
        "XOTrain, XOTest, YOTrain, YOTest = train_test_split(XO, YO, test_size=0.3)"
      ],
      "metadata": {
        "id": "CYU1H85ZGhIa"
      },
      "execution_count": null,
      "outputs": []
    },
    {
      "cell_type": "code",
      "source": [
        "model = RandomForestClassifier().fit(XUTrain, YUTrain)"
      ],
      "metadata": {
        "id": "rHHahfDyGhIa"
      },
      "execution_count": null,
      "outputs": []
    },
    {
      "cell_type": "code",
      "source": [
        "YTestPred = model.predict(XUTest)\n",
        "YTrainPred = model.predict(XUTrain)\n",
        "print(\"Train : \" , classification_report(YUTrain, YTrainPred))\n",
        "print(\"Test : \", classification_report(YUTest, YTestPred))"
      ],
      "metadata": {
        "colab": {
          "base_uri": "https://localhost:8080/"
        },
        "outputId": "37d8b17f-7e6b-45c0-deb0-119a056a95b2",
        "id": "ho14Hq6oGhIa"
      },
      "execution_count": null,
      "outputs": [
        {
          "output_type": "stream",
          "name": "stdout",
          "text": [
            "Train :                precision    recall  f1-score   support\n",
            "\n",
            "           0       0.90      0.92      0.91       216\n",
            "           1       0.92      0.90      0.91       220\n",
            "\n",
            "    accuracy                           0.91       436\n",
            "   macro avg       0.91      0.91      0.91       436\n",
            "weighted avg       0.91      0.91      0.91       436\n",
            "\n",
            "Test :                precision    recall  f1-score   support\n",
            "\n",
            "           0       0.72      0.71      0.72        96\n",
            "           1       0.70      0.72      0.71        92\n",
            "\n",
            "    accuracy                           0.71       188\n",
            "   macro avg       0.71      0.71      0.71       188\n",
            "weighted avg       0.71      0.71      0.71       188\n",
            "\n"
          ]
        }
      ]
    },
    {
      "cell_type": "code",
      "source": [
        "print(\"Train : \" , roc_auc_score(YUTrain, YTrainPred))\n",
        "print(\"Test : \", roc_auc_score(YUTest, YTestPred))"
      ],
      "metadata": {
        "colab": {
          "base_uri": "https://localhost:8080/"
        },
        "outputId": "650f4ed8-3ca2-4c35-bd3a-8d15f2c09b39",
        "id": "1vel6VgFGhIa"
      },
      "execution_count": null,
      "outputs": [
        {
          "output_type": "stream",
          "name": "stdout",
          "text": [
            "Train :  0.9106481481481481\n",
            "Test :  0.7128623188405797\n"
          ]
        }
      ]
    },
    {
      "cell_type": "code",
      "source": [
        "ConfusionMatrixDisplay = pd.crosstab(YUTest, YTestPred,\n",
        "                                    rownames=['Actual'], colnames=['Predicted'])\n",
        "sb.heatmap(ConfusionMatrixDisplay, annot=True, fmt=\".0f\")"
      ],
      "metadata": {
        "colab": {
          "base_uri": "https://localhost:8080/",
          "height": 466
        },
        "outputId": "135d709e-91c7-4eb6-e5e7-45b828425521",
        "id": "0Ojq-AWCGhIa"
      },
      "execution_count": null,
      "outputs": [
        {
          "output_type": "execute_result",
          "data": {
            "text/plain": [
              "<Axes: xlabel='Predicted', ylabel='Actual'>"
            ]
          },
          "metadata": {},
          "execution_count": 77
        },
        {
          "output_type": "display_data",
          "data": {
            "text/plain": [
              "<Figure size 640x480 with 2 Axes>"
            ],
            "image/png": "[encoded data removed]"
          },
          "metadata": {}
        }
      ]
    },
    {
      "cell_type": "code",
      "source": [
        "YTestPred = model.predict(XOTest)\n",
        "YTrainPred = model.predict(XOTrain)\n",
        "print(\"Train : \" , classification_report(YOTrain, YTrainPred))\n",
        "print(\"Test : \", classification_report(YOTest, YTestPred))"
      ],
      "metadata": {
        "colab": {
          "base_uri": "https://localhost:8080/"
        },
        "outputId": "4bab3fe1-f704-49e2-c6d6-db5aee99bc29",
        "id": "dSyYsnP1GhIa"
      },
      "execution_count": null,
      "outputs": [
        {
          "output_type": "stream",
          "name": "stdout",
          "text": [
            "Train :                precision    recall  f1-score   support\n",
            "\n",
            "           0       0.87      0.83      0.85       374\n",
            "           1       0.84      0.88      0.86       377\n",
            "\n",
            "    accuracy                           0.85       751\n",
            "   macro avg       0.86      0.85      0.85       751\n",
            "weighted avg       0.86      0.85      0.85       751\n",
            "\n",
            "Test :                precision    recall  f1-score   support\n",
            "\n",
            "           0       0.83      0.81      0.82       163\n",
            "           1       0.81      0.83      0.82       160\n",
            "\n",
            "    accuracy                           0.82       323\n",
            "   macro avg       0.82      0.82      0.82       323\n",
            "weighted avg       0.82      0.82      0.82       323\n",
            "\n"
          ]
        }
      ]
    },
    {
      "cell_type": "code",
      "source": [
        "print(\"Train : \" , roc_auc_score(YOTrain, YTrainPred))\n",
        "print(\"Test : \", roc_auc_score(YOTest, YTestPred))"
      ],
      "metadata": {
        "colab": {
          "base_uri": "https://localhost:8080/"
        },
        "outputId": "0aece2a0-c2a6-485f-ef69-6e63c0b25855",
        "id": "xi6H9zvoGhIa"
      },
      "execution_count": null,
      "outputs": [
        {
          "output_type": "stream",
          "name": "stdout",
          "text": [
            "Train :  0.8547780819586094\n",
            "Test :  0.8205329754601227\n"
          ]
        }
      ]
    },
    {
      "cell_type": "code",
      "source": [
        "ConfusionMatrixDisplay = pd.crosstab(YOTest, YTestPred,\n",
        "                                    rownames=['Actual'], colnames=['Predicted'])\n",
        "sb.heatmap(ConfusionMatrixDisplay, annot=True, fmt=\".0f\")"
      ],
      "metadata": {
        "colab": {
          "base_uri": "https://localhost:8080/",
          "height": 466
        },
        "outputId": "cd2a6549-d57c-460f-eab5-e06b22252885",
        "id": "gl8N28jiGhIa"
      },
      "execution_count": null,
      "outputs": [
        {
          "output_type": "execute_result",
          "data": {
            "text/plain": [
              "<Axes: xlabel='Predicted', ylabel='Actual'>"
            ]
          },
          "metadata": {},
          "execution_count": 80
        },
        {
          "output_type": "display_data",
          "data": {
            "text/plain": [
              "<Figure size 640x480 with 2 Axes>"
            ],
            "image/png": "[encoded data removed]"
          },
          "metadata": {}
        }
      ]
    },
    {
      "cell_type": "markdown",
      "source": [
        "#Improve the model: Hyper-parameter search (RF)"
      ],
      "metadata": {
        "id": "Pa9DZZO8GotZ"
      }
    },
    {
      "cell_type": "code",
      "source": [
        "\n",
        "from sklearn.model_selection import GridSearchCV\n",
        "param_grid = {\"n_estimators\" : [100, 1000, 3000, 5000],\n",
        "              \"max_depth\" : [100, 1000, 3000]}\n",
        "\n",
        "grid = GridSearchCV(RandomForestClassifier(), param_grid, refit = True)\n",
        "grid.fit(XOTrain, YOTrain)\n",
        "\n",
        "print(grid.best_params_)\n",
        "print(grid.best_estimator_)"
      ],
      "metadata": {
        "colab": {
          "base_uri": "https://localhost:8080/"
        },
        "outputId": "252b8ee5-9613-4dc2-a3f8-486174ad0547",
        "id": "lU3wB1P_Gota"
      },
      "execution_count": null,
      "outputs": [
        {
          "output_type": "stream",
          "name": "stdout",
          "text": [
            "{'max_depth': 1000, 'n_estimators': 5000}\n",
            "RandomForestClassifier(max_depth=1000, n_estimators=5000)\n"
          ]
        }
      ]
    },
    {
      "cell_type": "code",
      "source": [
        "model = RandomForestClassifier(max_depth=1000, n_estimators=5000).fit(XOTrain, YOTrain)"
      ],
      "metadata": {
        "id": "BIzUM9wdGota"
      },
      "execution_count": null,
      "outputs": []
    },
    {
      "cell_type": "code",
      "source": [
        "YTestPred = model.predict(XOTest)\n",
        "YTrainPred = model.predict(XOTrain)\n",
        "print(\"Train : \" , classification_report(YOTrain, YTrainPred))\n",
        "print(\"Test : \", classification_report(YOTest, YTestPred))"
      ],
      "metadata": {
        "colab": {
          "base_uri": "https://localhost:8080/"
        },
        "outputId": "73bbd68c-159b-4fbc-be98-66b9859b6b93",
        "id": "bPX5U2SZGota"
      },
      "execution_count": null,
      "outputs": [
        {
          "output_type": "stream",
          "name": "stdout",
          "text": [
            "Train :                precision    recall  f1-score   support\n",
            "\n",
            "           0       0.91      0.91      0.91       374\n",
            "           1       0.91      0.91      0.91       377\n",
            "\n",
            "    accuracy                           0.91       751\n",
            "   macro avg       0.91      0.91      0.91       751\n",
            "weighted avg       0.91      0.91      0.91       751\n",
            "\n",
            "Test :                precision    recall  f1-score   support\n",
            "\n",
            "           0       0.81      0.79      0.80       163\n",
            "           1       0.79      0.81      0.80       160\n",
            "\n",
            "    accuracy                           0.80       323\n",
            "   macro avg       0.80      0.80      0.80       323\n",
            "weighted avg       0.80      0.80      0.80       323\n",
            "\n"
          ]
        }
      ]
    },
    {
      "cell_type": "code",
      "source": [
        "print(\"Train : \" , roc_auc_score(YOTrain, YTrainPred))\n",
        "print(\"Test : \", roc_auc_score(YOTest, YTestPred))"
      ],
      "metadata": {
        "colab": {
          "base_uri": "https://localhost:8080/"
        },
        "outputId": "0cf17f49-1785-45e1-a360-ea093d4794f3",
        "id": "QkLtgE8gGotb"
      },
      "execution_count": null,
      "outputs": [
        {
          "output_type": "stream",
          "name": "stdout",
          "text": [
            "Train :  0.9108001531936623\n",
            "Test :  0.7988880368098159\n"
          ]
        }
      ]
    },
    {
      "cell_type": "code",
      "source": [
        "ConfusionMatrixDisplay = pd.crosstab(YOTest, YTestPred,\n",
        "                                    rownames=['Actual'], colnames=['Predicted'])\n",
        "sb.heatmap(ConfusionMatrixDisplay, annot=True, fmt=\".0f\")"
      ],
      "metadata": {
        "outputId": "0c65c07f-a74c-4718-da8e-3a0023256e40",
        "colab": {
          "base_uri": "https://localhost:8080/",
          "height": 466
        },
        "id": "5hI9nQpeGotb"
      },
      "execution_count": null,
      "outputs": [
        {
          "output_type": "execute_result",
          "data": {
            "text/plain": [
              "<Axes: xlabel='Predicted', ylabel='Actual'>"
            ]
          },
          "metadata": {},
          "execution_count": 90
        },
        {
          "output_type": "display_data",
          "data": {
            "text/plain": [
              "<Figure size 640x480 with 2 Axes>"
            ],
            "image/png": "[encoded data removed]"
          },
          "metadata": {}
        }
      ]
    }
  ]
}